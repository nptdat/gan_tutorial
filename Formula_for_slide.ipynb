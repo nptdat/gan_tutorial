{
 "cells": [
  {
   "cell_type": "code",
   "execution_count": 3,
   "metadata": {
    "collapsed": true
   },
   "outputs": [],
   "source": [
    "import numpy as np\n",
    "import matplotlib.pyplot as plt\n",
    "%matplotlib inline"
   ]
  },
  {
   "cell_type": "markdown",
   "metadata": {},
   "source": [
    "# Comparison the loss functions of G\n",
    "\n",
    "### The loss function of D\n",
    "$$J^{(D)}(\\theta^{(D)}, \\theta^{(G)})=-\\frac{1}{2}E_{x〜p_{data}}logD(x)-\\frac{1}{2}E_{z〜p_{z}}log(1-D(G(z)))$$\n",
    "\n",
    "\n",
    "* The inner loop of GAN algo will minimize $J^{(D)}$ w.r.t  $\\theta^{(D)}$ to train D\n",
    "\n",
    "$$\\theta^{(D)*}=\\underset{\\theta^{(D)}}argmin\\ J^{(D)}(\\theta^{(D)}, \\theta^{(G)})$$\n",
    "\n",
    "\n",
    "### Minimax game:\n",
    "* The loss function of G is $J^{(G)}=-J^{(D)}$\n",
    "        \n",
    "* Let $V(\\theta^{(D)}, \\theta^{(G)})=J^{(D)}(\\theta^{(D)}, \\theta^{(G)})$\n",
    "    \n",
    "* Then, the minimax game representation is:\n",
    "\n",
    "$$\\theta^{(G)*}=\\underset{\\theta^{(G)}}argmax\\ \\underset{\\theta^{(D)}}argmin\\ V(\\theta^{(D)}, \\theta^{(G)})$$\n",
    "\n",
    "$$\\theta^{(G)*}=\\underset{\\theta^{(G)}}argmax\\ -\\frac{1}{2}E_{z〜p_{z}}log(1-D(G(z)))$$\n",
    "\n",
    "$$=\\underset{\\theta^{(G)}}argmin\\ \\frac{1}{2}E_{z〜p_{z}}log(1-D(G(z)))$$\n",
    "\n",
    "* When D is improved, D(G(z)) near to 0, then the gradient of $log(1-D(G(z)))$ is saturated (converge to 0). This make G hard to learn. \n",
    "\n",
    "\n",
    "# Non-saturating game vs minimax game\n",
    "* Let's consider 2 functions which can be used in G loss function:\n",
    "    * $- logD(G(Z))$\n",
    "    * $log[1-D(G(Z))]$\n",
    "\n",
    "where $D \\in [0;1]$\n",
    "\n",
    "* Look at the following chart, we can see that when D near to 0, $log[1-D(G(Z))]$ has low gradient, while $- logD(G(Z))$ has high gradient."
   ]
  },
  {
   "cell_type": "code",
   "execution_count": 35,
   "metadata": {},
   "outputs": [
    {
     "data": {
      "image/png": "[encoded data removed]",
      "text/plain": [
       "<matplotlib.figure.Figure at 0x10bbaba58>"
      ]
     },
     "metadata": {},
     "output_type": "display_data"
    }
   ],
   "source": [
    "plt.figure(figsize=(10,5))\n",
    "x = np.linspace(0.01, 0.99, 200)\n",
    "y1 = -np.log(x)\n",
    "y2 = np.log(1-x)\n",
    "plt.plot(x, y1,color='green', label='- logD(G(z))')\n",
    "plt.plot(x, y2,color='red', label='log(1 - D(G(z)))')\n",
    "plt.xlabel('D(G(z))')\n",
    "plt.ylabel('J(G)')\n",
    "plt.legend()\n",
    "plt.show()"
   ]
  },
  {
   "cell_type": "markdown",
   "metadata": {},
   "source": [
    "* In other words, one trick to solve the low gradient problem in minimax game is to optimize the following function for G:\n",
    "\n",
    "$$\\theta^{(G)*}=\\underset{\\theta^{(G)}}argmin\\ -\\frac{1}{2}E_{z〜p_{z}}logD(G(z))$$\n"
   ]
  },
  {
   "cell_type": "markdown",
   "metadata": {
    "collapsed": true
   },
   "source": [
    "# Improved version of G loss function for slide"
   ]
  },
  {
   "cell_type": "markdown",
   "metadata": {},
   "source": [
    "$\\underset{\\theta_g}min [-E_{z〜p(z)}\\ log(D_{\\theta_d}(G_{\\theta_g}(z)))]$"
   ]
  },
  {
   "cell_type": "markdown",
   "metadata": {},
   "source": [
    "$\\underset{\\theta_d}min[-E_{x〜p_{data}}\\ log(D_{\\theta_d}(x))-E_{z〜p(z)}\\ log(1-D_{\\theta_d}(G_{\\theta_g}(z)))]$"
   ]
  },
  {
   "cell_type": "code",
   "execution_count": null,
   "metadata": {
    "collapsed": true
   },
   "outputs": [],
   "source": []
  }
 ],
 "metadata": {
  "kernelspec": {
   "display_name": "Python 3",
   "language": "python",
   "name": "python3"
  },
  "language_info": {
   "codemirror_mode": {
    "name": "ipython",
    "version": 3
   },
   "file_extension": ".py",
   "mimetype": "text/x-python",
   "name": "python",
   "nbconvert_exporter": "python",
   "pygments_lexer": "ipython3",
   "version": "3.6.1"
  }
 },
 "nbformat": 4,
 "nbformat_minor": 2
}
